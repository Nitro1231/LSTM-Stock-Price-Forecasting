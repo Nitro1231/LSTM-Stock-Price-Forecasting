{
 "cells": [
  {
   "cell_type": "markdown",
   "id": "8ce0859a-86b3-4315-aadb-63f6471499cc",
   "metadata": {},
   "source": [
    "# Import"
   ]
  },
  {
   "cell_type": "code",
   "execution_count": 1,
   "id": "b0ad7ea2-360b-492c-880a-73208970b39f",
   "metadata": {},
   "outputs": [],
   "source": [
    "import numpy as np\n",
    "import pandas as pd\n",
    "import yfinance as yf\n",
    "import datetime as dt\n",
    "import matplotlib.pyplot as plt\n",
    "from sklearn.preprocessing import MinMaxScaler\n",
    "from tensorflow.keras.models import Sequential\n",
    "from tensorflow.keras.layers import Dense, Dropout, LSTM"
   ]
  },
  {
   "cell_type": "markdown",
   "id": "6319774a-f005-4e6d-911a-8b6f6dc69839",
   "metadata": {},
   "source": [
    "---"
   ]
  },
  {
   "cell_type": "markdown",
   "id": "2e782a8a-c199-4b85-bc45-3c98f65eac64",
   "metadata": {},
   "source": [
    "# Set up variables"
   ]
  },
  {
   "cell_type": "code",
   "execution_count": 2,
   "id": "c571298f-0ce0-4048-a46c-cc5775fe8dc3",
   "metadata": {},
   "outputs": [],
   "source": [
    "COMPANY = 'AAPL'\n",
    "START = dt.datetime(2013, 1, 1)\n",
    "END = dt.datetime.now()\n",
    "TRAIN = 6 * 365 # 5 years\n",
    "\n",
    "scaler = MinMaxScaler(feature_range=(0, 1))\n",
    "\n",
    "def show_df(data, col):\n",
    "    df = pd.DataFrame(data).T\n",
    "    df.columns = col\n",
    "    return df"
   ]
  },
  {
   "cell_type": "code",
   "execution_count": null,
   "id": "cef29cfe-4357-4a6e-9b98-356f0d993552",
   "metadata": {},
   "outputs": [],
   "source": []
  }
 ],
 "metadata": {
  "kernelspec": {
   "display_name": "Python 3 (ipykernel)",
   "language": "python",
   "name": "python3"
  },
  "language_info": {
   "codemirror_mode": {
    "name": "ipython",
    "version": 3
   },
   "file_extension": ".py",
   "mimetype": "text/x-python",
   "name": "python",
   "nbconvert_exporter": "python",
   "pygments_lexer": "ipython3",
   "version": "3.10.12"
  }
 },
 "nbformat": 4,
 "nbformat_minor": 5
}
